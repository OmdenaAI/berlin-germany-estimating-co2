{
  "nbformat": 4,
  "nbformat_minor": 0,
  "metadata": {
    "colab": {
      "provenance": [],
      "toc_visible": true,
      "mount_file_id": "1UGJgRFFrw1VST40DnV_QGvYR1AiQ0zz5",
      "authorship_tag": "ABX9TyN9qjb5hDT8i9vZBXD3iP2X",
      "include_colab_link": true
    },
    "kernelspec": {
      "name": "python3",
      "display_name": "Python 3"
    },
    "language_info": {
      "name": "python"
    }
  },
  "cells": [
    {
      "cell_type": "markdown",
      "metadata": {
        "id": "view-in-github",
        "colab_type": "text"
      },
      "source": [
        "<a href=\"https://colab.research.google.com/github/OmdenaAI/berlin-germany-estimating-co2/blob/scraping/web_scraping.ipynb\" target=\"_parent\"><img src=\"https://colab.research.google.com/assets/colab-badge.svg\" alt=\"Open In Colab\"/></a>"
      ]
    },
    {
      "cell_type": "code",
      "execution_count": null,
      "metadata": {
        "id": "8SilRpAe9Bxd"
      },
      "outputs": [],
      "source": [
        "!pip install selenium\n",
        "\n",
        "!apt install chromium-chromedriver\n",
        "\n",
        "!pip install pandas"
      ]
    },
    {
      "cell_type": "code",
      "source": [
        "\n",
        "from selenium import webdriver\n",
        "from selenium.webdriver.common.keys import Keys\n",
        "from selenium.webdriver.common.by import By\n",
        "import time\n",
        "import pandas as pd\n",
        "\n",
        "from selenium import webdriver\n",
        "chrome_options = webdriver.ChromeOptions()\n",
        "chrome_options.add_argument('--headless')\n",
        "chrome_options.add_argument('--no-sandbox')\n",
        "chrome_options.add_argument('--disable-dev-shm-usage')\n",
        "driver = webdriver.Chrome('chromedriver', options=chrome_options)\n",
        "driver.get(\"https://ig.ft.com/carbon-food-labelling/\")\n",
        "\n",
        "time.sleep(2)\n",
        "\n",
        "food = []\n",
        "\n",
        "try:\n",
        "  add_buttons = driver.find_elements(By.CSS_SELECTOR, \".scales-item__add\");\n",
        "  add_buttons[1].click()\n",
        "\n",
        "  items = driver.find_elements(By.CSS_SELECTOR, \".overlay-results .overlay-items .overlay-item\")\n",
        "\n",
        "  if len(items) == 0:\n",
        "    print(\"Request Failed!\")\n",
        "    driver.close()\n",
        "    exit\n",
        "\n",
        "  count = 1\n",
        "\n",
        "  for item in items:\n",
        "    count = count + 1\n",
        "    if not item.is_displayed():\n",
        "      overlays = driver.find_elements(By.CSS_SELECTOR, \".overlay-results\")\n",
        "      driver.execute_script(\"arguments[0].scrollTop = arguments[0].scrollTop + arguments[1]\", overlays[0], 50)\n",
        "\n",
        "      if not item.is_displayed():\n",
        "        break\n",
        "\n",
        "    entry = {}\n",
        "    entry[\"item\"] = item.find_elements(By.TAG_NAME, \"span\")[1].text\n",
        "\n",
        "    item.click()\n",
        "\n",
        "    show = driver.find_element(By.CSS_SELECTOR, \".scales-show-breakdown\")\n",
        "    showArrow = show.find_elements(By.CSS_SELECTOR, \".show-span\") \n",
        "    if len(showArrow) > 0:\n",
        "      show.click()\n",
        "\n",
        "    table = driver.find_element(By.CSS_SELECTOR, \".breakdown-table\")\n",
        "    rows = table.find_elements(By.TAG_NAME, \"tr\")\n",
        "    \n",
        "    for row in rows:\n",
        "      columns = row.find_elements(By.TAG_NAME, \"td\")\n",
        "\n",
        "      service = columns[1].text\n",
        "      if service != \"\" and service  != \"Other\":\n",
        "        entry[service] = columns[2].text\n",
        "        \n",
        "    print(entry)\n",
        "    food.append(entry)\n",
        "    \n",
        "    close = driver.find_element(By.CSS_SELECTOR, \".scales-item.scales-item--chosen .scales-item__switch\")\n",
        "    close.click()\n",
        "  \n",
        "  driver.close()\n",
        "except TypeError:\n",
        "  \n",
        "  print(food)\n",
        "\n",
        "#df = pd.DataFrame(food)\n",
        "#df.to_csv('/content/sample_data/output.csv', index = False);"
      ],
      "metadata": {
        "id": "eZCyIsj69VZK"
      },
      "execution_count": null,
      "outputs": []
    }
  ]
}